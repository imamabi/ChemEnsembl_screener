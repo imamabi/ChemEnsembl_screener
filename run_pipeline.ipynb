{
 "cells": [
  {
   "cell_type": "code",
   "execution_count": null,
   "id": "23ae6f0a",
   "metadata": {},
   "outputs": [
    {
     "name": "stdout",
     "output_type": "stream",
     "text": [
      "Loaded: train=(6342, 2072), test=(1278, 2072)\n"
     ]
    }
   ],
   "source": [
    "import pandas as pd\n",
    "import numpy as np\n",
    "import os\n",
    "from src.config import CONFIG\n",
    "from src.pipeline import run_pipeline\n",
    "\n",
    "\n",
    "#file paths\n",
    "TRAIN_CSV = \"EGFR_train_scaffold.csv\"\n",
    "TEST_CSV  = \"EGFR_test_scaffold.csv\"\n",
    "\n",
    "# Load\n",
    "df_train = pd.read_csv(TRAIN_CSV)\n",
    "df_test  = pd.read_csv(TEST_CSV)\n",
    "\n",
    "print(f\"Loaded: train={df_train.shape}, test={df_test.shape}\")\n",
    "\n",
    "#Label column\n",
    "# Expect a binary column named 'y' already (1=active, 0=inactive)\n",
    "assert \"y\" in df_train.columns and \"y\" in df_test.columns, \\\n",
    "    \"Missing 'y' column in train/test.\"\n"
   ]
  },
  {
   "cell_type": "code",
   "execution_count": 10,
   "id": "cf8ed6a0",
   "metadata": {},
   "outputs": [
    {
     "data": {
      "text/plain": [
       "Index(['molecule_chembl_id', 'canonical_smiles', 'standard_value', 'class',\n",
       "       'standardized_smiles', 'MolWt', 'LogP', 'TPSA', 'HBD', 'HBA', 'RotB',\n",
       "       'RingCount', 'AromaticRingCount', 'FractionCSP3', 'HeavyAtomCount',\n",
       "       'HeteroAtomCount', 'HasPyridine', 'HasPyrimidine', 'MurckoScaffold',\n",
       "       'MW_norm', 'TPSA_norm', 'LogP_norm', 'SP3_norm', 'ECFP_0', 'ECFP_1'],\n",
       "      dtype='object')"
      ]
     },
     "execution_count": 10,
     "metadata": {},
     "output_type": "execute_result"
    }
   ],
   "source": [
    "df_test.columns[:25]"
   ]
  },
  {
   "cell_type": "code",
   "execution_count": 12,
   "id": "da37eb49",
   "metadata": {},
   "outputs": [
    {
     "name": "stdout",
     "output_type": "stream",
     "text": [
      "\n",
      "Feature columns (first 20 shown):\n",
      "['standard_value', 'MolWt', 'LogP', 'TPSA', 'HBD', 'HBA', 'RotB', 'RingCount', 'AromaticRingCount', 'FractionCSP3', 'HeavyAtomCount', 'HeteroAtomCount', 'HasPyridine', 'HasPyrimidine', 'MW_norm', 'TPSA_norm', 'LogP_norm', 'SP3_norm', 'ECFP_0', 'ECFP_1']\n",
      "Total feature columns: 2066\n",
      "\n",
      "Dtypes of first few features:\n",
      "standard_value       float64\n",
      "MolWt                float64\n",
      "LogP                 float64\n",
      "TPSA                 float64\n",
      "HBD                    int64\n",
      "HBA                    int64\n",
      "RotB                   int64\n",
      "RingCount              int64\n",
      "AromaticRingCount      int64\n",
      "FractionCSP3         float64\n",
      "HeavyAtomCount         int64\n",
      "HeteroAtomCount        int64\n",
      "HasPyridine            int64\n",
      "HasPyrimidine          int64\n",
      "MW_norm              float64\n",
      "TPSA_norm            float64\n",
      "LogP_norm            float64\n",
      "SP3_norm             float64\n",
      "ECFP_0                 int64\n",
      "ECFP_1                 int64\n",
      "dtype: object\n"
     ]
    }
   ],
   "source": [
    "#\n",
    "# Choose feature columns \n",
    "# Drop obvious non-features if present; keep everything else numeric.\n",
    "non_features = {\n",
    "    \"y\", \"class\", \"MurckoScaffold\",'standard_value'\n",\"MolWt\",\"TPSA\",\"LogP\",
    "    \"canonical_smiles\", \"standardized_smiles\",\n",
    "    \"molecule_chembl_id\", \n",
    "}\n",
    "train_feat_cols = [c for c in df_train.columns if c not in non_features]\n",
    "test_feat_cols  = [c for c in df_test.columns  if c not in non_features]\n",
    "\n",
    "# Align to common columns (defensive)\n",
    "common_cols = [c for c in train_feat_cols if c in test_feat_cols]\n",
    "assert len(common_cols) > 0, \"No common feature columns between train and test!\"\n",
    "\n",
    "#Keep only numeric features\n",
    "common_cols = [c for c in common_cols if pd.api.types.is_numeric_dtype(df_train[c])]\n",
    "\n",
    "# Show a quick view of features\n",
    "print(\"\\nFeature columns (first 20 shown):\")\n",
    "print(common_cols[:20])\n",
    "print(f\"Total feature columns: {len(common_cols)}\")\n",
    "\n",
    "# Optional: peek at dtypes\n",
    "print(\"\\nDtypes of first few features:\")\n",
    "print(df_train[common_cols[:20]].dtypes)\n"
   ]
  },
  {
   "cell_type": "code",
   "execution_count": 18,
   "id": "eefae07b",
   "metadata": {},
   "outputs": [
    {
     "name": "stdout",
     "output_type": "stream",
     "text": [
      "\n",
      "Shapes --> X_train=(6342, 2066), y_train=(6342,)\n",
      "           X_test =(1278, 2066),  y_test =(1278,)\n",
      "\n",
      "NaN check: train NaNs=0, test NaNs=0\n",
      "\n",
      "Class balance:\n",
      "train: [1755 4587]\n",
      "test : [336 942]\n"
     ]
    }
   ],
   "source": [
    "# Build X/y\n",
    "X_train = df_train[common_cols].values\n",
    "y_train = df_train[\"y\"].astype(int).values\n",
    "\n",
    "X_test  = df_test[common_cols].values\n",
    "y_test  = df_test[\"y\"].astype(int).values\n",
    "\n",
    "print(f\"\\nShapes --> X_train={X_train.shape}, y_train={y_train.shape}\")\n",
    "print(f\"           X_test ={X_test.shape},  y_test ={y_test.shape}\")\n",
    "\n",
    "#Sanity checks\n",
    "# NaNs?\n",
    "n_nan_train = int(np.isnan(X_train).sum())\n",
    "n_nan_test  = int(np.isnan(X_test).sum())\n",
    "print(f\"\\nNaN check: train NaNs={n_nan_train}, test NaNs={n_nan_test}\")\n",
    "if n_nan_train or n_nan_test:\n",
    "    print(\"Filling NaNs with 0 to avoid model errors.\")\n",
    "    X_train = np.nan_to_num(X_train, nan=0.0)\n",
    "    X_test  = np.nan_to_num(X_test,  nan=0.0)\n",
    "\n",
    "# Class balance\n",
    "print(\"\\nClass balance:\")\n",
    "print(\"train:\", np.bincount(y_train))\n",
    "print(\"test :\", np.bincount(y_test))\n",
    "\n"
   ]
  },
  {
   "cell_type": "code",
   "execution_count": null,
   "id": "c3d7fee5",
   "metadata": {},
   "outputs": [],
   "source": [
    "# Ensure output directory exists before running pipeline (important in notebooks)\n",
    "os.makedirs(CONFIG[\"output_dir\"], exist_ok=True)\n",
    "\n",
    "#Run pipeline\n",
    "selected = [\"forest\", \"xgboost\", \"svm\"]   # your selection\n",
    "artefacts = run_pipeline(\n",
    "    X_train, y_train,\n",
    "    X_test, y_test,\n",
    "    voting=\"soft\",\n",
    "    selected_models=selected\n",
    ")\n",
    "\n",
    "print(\"\\nPipeline done. Keys in summary:\", list(artefacts.keys()))"
   ]
  }
 ],
 "metadata": {
  "kernelspec": {
   "display_name": "chemprop",
   "language": "python",
   "name": "python3"
  },
  "language_info": {
   "codemirror_mode": {
    "name": "ipython",
    "version": 3
   },
   "file_extension": ".py",
   "mimetype": "text/x-python",
   "name": "python",
   "nbconvert_exporter": "python",
   "pygments_lexer": "ipython3",
   "version": "3.13.3"
  }
 },
 "nbformat": 4,
 "nbformat_minor": 5
}
