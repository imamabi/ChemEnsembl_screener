{
 "cells": [
  {
   "cell_type": "markdown",
   "id": "2be0e687",
   "metadata": {},
   "source": [
    "# EGFR Bioactivity EDA (Teaching-Style)\n",
    "This notebook explores your curated EGFR dataset (`EGFR_03_bioactivity_data_curated.csv`). It’s written for non-specialists with step-by-step explanations."
   ]
  },
  {
   "cell_type": "code",
   "execution_count": null,
   "id": "b57be207",
   "metadata": {},
   "outputs": [],
   "source": [
    "!pip install rdkit-pypi umap-learn scikit-learn matplotlib pandas numpy --quiet"
   ]
  },
  {
   "cell_type": "code",
   "execution_count": null,
   "id": "080e2484",
   "metadata": {},
   "outputs": [],
   "source": [
    "import os\n",
    "import numpy as np\n",
    "import pandas as pd\n",
    "import matplotlib.pyplot as plt\n",
    "from sklearn.preprocessing import StandardScaler\n",
    "from sklearn.decomposition import PCA\n",
    "from umap import UMAP\n",
    "from sklearn.feature_selection import f_classif\n",
    "from sklearn.ensemble import IsolationForest\n",
    "from rdkit import Chem\n",
    "from rdkit.Chem import Descriptors\n",
    "pd.set_option('display.max_columns', 100)\n",
    "pd.set_option('display.width', 120)"
   ]
  },
  {
   "cell_type": "markdown",
   "id": "08598f14",
   "metadata": {},
   "source": [
    "## Load dataset and normalize column names"
   ]
  },
  {
   "cell_type": "code",
   "execution_count": null,
   "id": "9cce8019",
   "metadata": {},
   "outputs": [],
   "source": [
    "csv_path = 'EGFR_03_bioactivity_data_curated.csv'\n",
    "assert os.path.exists(csv_path), f\"Couldn't find {csv_path}. Place it in the working directory.\"\n",
    "df = pd.read_csv(csv_path)\n",
    "if 'molecule_chemble_id' in df.columns and 'molecule_chembl_id' not in df.columns:\n",
    "    df = df.rename(columns={'molecule_chemble_id': 'molecule_chembl_id'})\n",
    "print('Shape:', df.shape)\n",
    "df.head()"
   ]
  },
  {
   "cell_type": "markdown",
   "id": "28ec65e8",
   "metadata": {},
   "source": [
    "## Create pIC50 and quick visuals"
   ]
  },
  {
   "cell_type": "code",
   "execution_count": null,
   "id": "0387dc26",
   "metadata": {},
   "outputs": [],
   "source": [
    "df = df.copy()\n",
    "df['standard_value'] = pd.to_numeric(df['standard_value'], errors='coerce')\n",
    "df = df[df['standard_value'] > 0]\n",
    "df['pIC50'] = 9 - np.log10(df['standard_value'])\n",
    "df[['standard_value','pIC50']].describe()"
   ]
  },
  {
   "cell_type": "code",
   "execution_count": null,
   "id": "229c1c5b",
   "metadata": {},
   "outputs": [],
   "source": [
    "plt.figure(); plt.hist(np.log10(df['standard_value']), bins=50); plt.title('IC50 (log10 nM)'); plt.xlabel('log10(IC50_nM)'); plt.ylabel('Count'); plt.show()\n",
    "plt.figure(); plt.hist(df['pIC50'], bins=50); plt.title('pIC50'); plt.xlabel('pIC50'); plt.ylabel('Count'); plt.show()"
   ]
  },
  {
   "cell_type": "markdown",
   "id": "0daeb253",
   "metadata": {},
   "source": [
    "## Light SMILES validation"
   ]
  },
  {
   "cell_type": "code",
   "execution_count": null,
   "id": "47a526b2",
   "metadata": {},
   "outputs": [],
   "source": [
    "def check_smiles_format(df_in, column_name='canonical_smiles'):\n",
    "    df_local = df_in.copy()\n",
    "    def bad(s):\n",
    "        if not isinstance(s, str) or s.strip()=='' : return True\n",
    "        if s.count('[')!=s.count(']'): return True\n",
    "        if s.count('(')!=s.count(')'): return True\n",
    "        if s.startswith('.') or s.endswith('.') or '.' in s: return True\n",
    "        return False\n",
    "    df_local['is_poorly_formatted'] = df_local[column_name].apply(bad)\n",
    "    return df_local[df_local['is_poorly_formatted']]\n",
    "poor = check_smiles_format(df, 'canonical_smiles'); print('Poor SMILES:', len(poor)); poor.head()"
   ]
  },
  {
   "cell_type": "markdown",
   "id": "95a68945",
   "metadata": {},
   "source": [
    "## RDKit descriptors"
   ]
  },
  {
   "cell_type": "code",
   "execution_count": null,
   "id": "a526bb7d",
   "metadata": {},
   "outputs": [],
   "source": [
    "from rdkit import Chem\n",
    "from rdkit.Chem import Descriptors\n",
    "def compute_descriptors(smiles_series):\n",
    "    rows, idxs, failed = [], [], []\n",
    "    for idx, smi in smiles_series.items():\n",
    "        mol = Chem.MolFromSmiles(smi)\n",
    "        if mol is None:\n",
    "            failed.append(idx); continue\n",
    "        rows.append({\n",
    "            'MolWt': Descriptors.MolWt(mol),\n",
    "            'LogP': Descriptors.MolLogP(mol),\n",
    "            'HBD': Descriptors.NumHDonors(mol),\n",
    "            'HBA': Descriptors.NumHAcceptors(mol),\n",
    "            'TPSA': Descriptors.TPSA(mol),\n",
    "            'RotB': Descriptors.NumRotatableBonds(mol),\n",
    "            'RingCount': Descriptors.RingCount(mol),\n",
    "            'FractionCSP3': Descriptors.FractionCSP3(mol),\n",
    "            'HeavyAtomCount': Descriptors.HeavyAtomCount(mol)\n",
    "        }); idxs.append(idx)\n",
    "    return pd.DataFrame(rows, index=idxs), failed\n",
    "desc_df, failed = compute_descriptors(df['canonical_smiles'])\n",
    "df_desc = df.loc[desc_df.index].reset_index(drop=True)\n",
    "desc_df = desc_df.reset_index(drop=True)\n",
    "data = pd.concat([df_desc, desc_df], axis=1)\n",
    "print('Descriptor rows:', len(desc_df), '| Failed SMILES:', len(failed))\n",
    "data.to_csv('EGFR_EDA_with_descriptors.csv', index=False)\n",
    "data.head()"
   ]
  },
  {
   "cell_type": "markdown",
   "id": "28d135a0",
   "metadata": {},
   "source": [
    "## Correlations and simple relationships"
   ]
  },
  {
   "cell_type": "code",
   "execution_count": null,
   "id": "fb54b4a0",
   "metadata": {},
   "outputs": [],
   "source": [
    "descriptor_cols = ['MolWt','LogP','HBD','HBA','TPSA','RotB','RingCount','FractionCSP3','HeavyAtomCount']\n",
    "corrs = data[descriptor_cols + ['pIC50']].corr()\n",
    "import matplotlib.pyplot as plt\n",
    "plt.figure(figsize=(8,6)); im = plt.imshow(corrs, interpolation='nearest'); plt.title('Correlation matrix');\n",
    "plt.xticks(range(len(corrs.columns)), corrs.columns, rotation=45, ha='right'); plt.yticks(range(len(corrs.index)), corrs.index);\n",
    "plt.colorbar(im, fraction=0.046, pad=0.04); plt.tight_layout(); plt.show()\n",
    "target_corr = corrs['pIC50'].drop('pIC50').sort_values(ascending=False); print(target_corr)\n",
    "plt.figure(); plt.bar(target_corr.index, target_corr.values); plt.title('Descriptor correlation with pIC50');\n",
    "plt.xticks(rotation=45, ha='right'); plt.ylabel('Pearson r'); plt.tight_layout(); plt.show()"
   ]
  },
  {
   "cell_type": "markdown",
   "id": "e6c80366",
   "metadata": {},
   "source": [
    "## PCA & UMAP (structure in descriptor space)"
   ]
  },
  {
   "cell_type": "code",
   "execution_count": null,
   "id": "8062c1bd",
   "metadata": {},
   "outputs": [],
   "source": [
    "feat = data[descriptor_cols].replace([np.inf, -np.inf], np.nan).dropna()\n",
    "scaler = StandardScaler(); Xz = scaler.fit_transform(feat.values)\n",
    "pca = PCA(n_components=2, random_state=42); pca_xy = pca.fit_transform(Xz)\n",
    "plt.figure(); plt.scatter(pca_xy[:,0], pca_xy[:,1], alpha=0.7); plt.xlabel('PC1'); plt.ylabel('PC2'); plt.title('PCA'); plt.show()\n",
    "um = UMAP(n_components=2, random_state=42); um_xy = um.fit_transform(Xz)\n",
    "plt.figure(); plt.scatter(um_xy[:,0], um_xy[:,1], alpha=0.7); plt.xlabel('UMAP-1'); plt.ylabel('UMAP-2'); plt.title('UMAP'); plt.show()"
   ]
  },
  {
   "cell_type": "markdown",
   "id": "e6bd2ac8",
   "metadata": {},
   "source": [
    "## Isolation Forest outliers (optional)"
   ]
  },
  {
   "cell_type": "code",
   "execution_count": null,
   "id": "44c3e2a6",
   "metadata": {},
   "outputs": [],
   "source": [
    "iso = IsolationForest(contamination=0.05, random_state=42); labels = iso.fit_predict(Xz)\n",
    "outliers = (labels == -1); print('Outliers flagged:', outliers.sum(), '/', len(outliers))\n",
    "plt.figure();\n",
    "plt.scatter(pca_xy[~outliers,0], pca_xy[~outliers,1], alpha=0.5)\n",
    "plt.scatter(pca_xy[outliers,0], pca_xy[outliers,1], alpha=0.9, marker='x')\n",
    "plt.xlabel('PC1'); plt.ylabel('PC2'); plt.title('Outliers on PCA'); plt.show()\n",
    "data_out = data.loc[feat.index].copy(); data_out['pca_x']=pca_xy[:,0]; data_out['pca_y']=pca_xy[:,1];\n",
    "data_out['umap_x']=um_xy[:,0]; data_out['umap_y']=um_xy[:,1]; data_out['is_outlier_iforest']=outliers;\n",
    "data_out.to_csv('EGFR_EDA_with_embeddings.csv', index=False); print('Saved EGFR_EDA_with_embeddings.csv')"
   ]
  }
 ],
 "metadata": {
  "language_info": {
   "name": "python"
  }
 },
 "nbformat": 4,
 "nbformat_minor": 5
}
